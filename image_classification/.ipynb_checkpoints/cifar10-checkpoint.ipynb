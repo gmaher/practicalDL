{
 "cells": [
  {
   "cell_type": "code",
   "execution_count": 1,
   "metadata": {},
   "outputs": [],
   "source": [
    "#Import the libraries we'll need\n",
    "import tensorflow as tf\n",
    "import numpy as np\n",
    "import matplotlib\n",
    "\n",
    "import os\n",
    "%matplotlib inline\n",
    "matplotlib.rcParams.update({'font.size': 24})\n",
    "import matplotlib.pyplot as plt\n",
    "plt.style.use('ggplot')"
   ]
  },
  {
   "cell_type": "code",
   "execution_count": 2,
   "metadata": {
    "collapsed": true
   },
   "outputs": [],
   "source": [
    "#Functions to help extract the CIFAR-10 binary data\n",
    "def unpickle(file):\n",
    "    import cPickle\n",
    "    with open(file, 'rb') as fo:\n",
    "        dict = cPickle.load(fo)\n",
    "    return dict\n",
    "\n",
    "def extract_data(file):\n",
    "    d = unpickle(file)\n",
    "    dim = int(np.sqrt(d['data'].shape[1]/3))\n",
    "    d['data'] = d['data'].reshape((-1,3,dim,dim))\n",
    "    d['data'] = np.transpose(d['data'],axes=(0,2,3,1))\n",
    "    return d['data'],np.array(d['labels'])"
   ]
  },
  {
   "cell_type": "code",
   "execution_count": 3,
   "metadata": {},
   "outputs": [
    {
     "name": "stdout",
     "output_type": "stream",
     "text": [
      "found 5 datasets\n",
      "X_train.shape = (30000, 32, 32, 3), Y_train.shape = (30000,)\n",
      "X_test.shape = (10000, 32, 32, 3), Y_test.shape = (10000,)\n"
     ]
    }
   ],
   "source": [
    "directory = 'cifar-10-batches-py'\n",
    "X = []\n",
    "Y = []\n",
    "for f in os.listdir(directory):\n",
    "    if 'data_batch' in f:\n",
    "        x,y = extract_data(directory+'/'+f)\n",
    "        X.append(x)\n",
    "        Y.append(y)\n",
    "        \n",
    "print 'found {} datasets'.format(len(X))\n",
    "        \n",
    "X_train = np.concatenate(X[:-1])\n",
    "Y_train = np.concatenate(Y[:-1])\n",
    "\n",
    "X_val = X[-1]\n",
    "Y_val = Y[-1]\n",
    "\n",
    "X_test, Y_test = extract_data(directory+'/test_batch')\n",
    "\n",
    "print \"X_train.shape = {}, Y_train.shape = {}\".format(\n",
    "    X_train.shape,Y_train.shape)\n",
    "\n",
    "print \"X_test.shape = {}, Y_test.shape = {}\".format(\n",
    "    X_test.shape,Y_test.shape)"
   ]
  },
  {
   "cell_type": "code",
   "execution_count": 4,
   "metadata": {},
   "outputs": [
    {
     "data": {
      "image/png": "[encoded data removed]",
      "text/plain": [
       "<matplotlib.figure.Figure at 0x7fe54821f050>"
      ]
     },
     "metadata": {},
     "output_type": "display_data"
    }
   ],
   "source": [
    "i = np.random.randint(X_train.shape[0])\n",
    "plt.figure()\n",
    "plt.imshow(X_train[i,:,:,:])\n",
    "plt.colorbar()\n",
    "plt.grid('off')\n",
    "plt.show()"
   ]
  },
  {
   "cell_type": "code",
   "execution_count": 5,
   "metadata": {
    "collapsed": true
   },
   "outputs": [],
   "source": [
    "#normalize the data\n",
    "X_train = 1.0*X_train/255\n",
    "X_val = 1.0*X_val/255\n",
    "X_test = 1.0*X_test/255"
   ]
  },
  {
   "cell_type": "code",
   "execution_count": 6,
   "metadata": {},
   "outputs": [
    {
     "data": {
      "image/png": "[encoded data removed]",
      "text/plain": [
       "<matplotlib.figure.Figure at 0x7fe5391abc90>"
      ]
     },
     "metadata": {},
     "output_type": "display_data"
    }
   ],
   "source": [
    "plt.figure()\n",
    "plt.imshow(X_train[i,:,:,:])\n",
    "plt.colorbar()\n",
    "plt.grid('off')\n",
    "plt.show()"
   ]
  },
  {
   "cell_type": "code",
   "execution_count": 7,
   "metadata": {
    "collapsed": true
   },
   "outputs": [],
   "source": [
    "def conv2D(x, dims=[3,3], filters=32, strides=[1,1], \n",
    "           std=1e-3, padding='SAME', activation=tf.identity, scope='conv2d', reuse=False):\n",
    "    \n",
    "    with tf.variable_scope(scope,reuse=reuse):\n",
    "        \n",
    "        s = x.get_shape().as_list()\n",
    "        shape = dims +[s[3],filters]\n",
    "        \n",
    "        W = tf.Variable(tf.random_normal(shape=shape,stddev=std),\n",
    "            name='W')\n",
    "        b = tf.Variable(tf.ones([filters])*std, name='b')\n",
    "    \n",
    "        o = tf.nn.convolution(x, W, padding, strides=strides)\n",
    "        \n",
    "        o = o+b\n",
    "        \n",
    "        a = activation(o)\n",
    "        \n",
    "        return a\n",
    "    \n",
    "def fullyConnected(x,output_units=100,activation=tf.identity,std=1e-3,\n",
    "                  scope='fc',reuse=False):\n",
    "    with tf.variable_scope(scope,reuse=reuse):\n",
    "        \n",
    "        s = x.get_shape().as_list()\n",
    "        shape = [s[1],output_units]\n",
    "        \n",
    "        W = tf.Variable(tf.random_normal(shape, stddev=std))\n",
    "        b = tf.Variable(tf.ones([shape[1]])*std)\n",
    "\n",
    "        h = tf.matmul(x,W)+b\n",
    "        a = activation(h)\n",
    "        return a\n",
    "    \n",
    "def get_batch(X,Y,N,n=32):\n",
    "    inds = np.random.choice(range(N),size=n, replace=False)\n",
    "    x = X[inds]\n",
    "    y = Y[inds]\n",
    "    return x,y"
   ]
  },
  {
   "cell_type": "code",
   "execution_count": 8,
   "metadata": {
    "collapsed": true
   },
   "outputs": [],
   "source": [
    "train_steps = 10000\n",
    "N = X_train.shape[0]\n",
    "Nval = X_val.shape[0]\n",
    "Nbatch = 32\n",
    "print_step = 1000\n",
    "W = X_train.shape[1]\n",
    "H = W\n",
    "C = 3\n",
    "filters = 16\n",
    "dims = [5,5]\n",
    "pool_dims = [2,2]\n",
    "strides = [1,1]\n",
    "hidden_size = 100\n",
    "act = tf.nn.relu\n",
    "std=1e-2\n",
    "num_classes=10\n",
    "lr=1e-2\n",
    "momentum=0.9\n",
    "l2_coeff = 0.0"
   ]
  },
  {
   "cell_type": "code",
   "execution_count": 9,
   "metadata": {
    "collapsed": true
   },
   "outputs": [],
   "source": [
    "x = tf.placeholder(shape=[None,W,H,C],dtype=tf.float32)\n",
    "y = tf.placeholder(shape=[None],dtype=tf.int32)\n",
    "\n",
    "o = conv2D(x,dims=dims,filters=filters,strides=strides,std=std,\n",
    "           activation=act, scope='conv_1')\n",
    "\n",
    "o = tf.nn.pool(o,pool_dims,'MAX',padding='VALID')\n",
    "\n",
    "o = conv2D(o,dims=dims,filters=filters,strides=strides,std=std,\n",
    "           activation=act, scope='conv_3')\n",
    "\n",
    "o = tf.nn.pool(o,pool_dims,'MAX', padding='VALID')\n",
    "\n",
    "s = o.get_shape().as_list()\n",
    "o = tf.reshape(o,[-1,s[1]*s[2]*s[3]])\n",
    "\n",
    "o = fullyConnected(o,hidden_size,scope='dense')\n",
    "\n",
    "o = fullyConnected(o,num_classes,scope='fc_logits')\n",
    "\n",
    "yhat = tf.nn.softmax(o)\n",
    "\n",
    "loss = tf.reduce_mean(tf.nn.sparse_softmax_cross_entropy_with_logits(logits=o,labels=y))\n",
    "\n",
    "var_list = tf.trainable_variables()\n",
    "\n",
    "l2_reg = 0\n",
    "for v in var_list:\n",
    "    l2_reg += tf.reduce_mean(tf.square(v))\n",
    "    \n",
    "l2_reg = (1.0/len(var_list))*l2_coeff*l2_reg\n",
    "loss = loss + l2_reg"
   ]
  },
  {
   "cell_type": "code",
   "execution_count": 10,
   "metadata": {
    "collapsed": true
   },
   "outputs": [],
   "source": [
    "opt = tf.train.MomentumOptimizer(lr,momentum)\n",
    "train = opt.minimize(loss)\n",
    "init = tf.global_variables_initializer()"
   ]
  },
  {
   "cell_type": "code",
   "execution_count": 11,
   "metadata": {},
   "outputs": [
    {
     "name": "stdout",
     "output_type": "stream",
     "text": [
      "(32, 32, 32, 3) (32,)\n"
     ]
    }
   ],
   "source": [
    "train_hist = []\n",
    "val_hist = []\n",
    "sess = tf.Session()\n",
    "sess.run(init)\n",
    "xb,yb = get_batch(X_train,Y_train,N,n=Nbatch)\n",
    "print xb.shape,yb.shape"
   ]
  },
  {
   "cell_type": "code",
   "execution_count": 12,
   "metadata": {},
   "outputs": [
    {
     "name": "stdout",
     "output_type": "stream",
     "text": [
      "iter: 0 Train: 2.30258369446, Val: 2.30254006386\n",
      "iter: 1000 Train: 2.29788208008, Val: 2.30212974548\n",
      "iter: 2000 Train: 1.90519046783, Val: 1.92148149014\n",
      "iter: 3000 Train: 1.88495159149, Val: 1.24875533581\n",
      "iter: 4000 Train: 1.49852967262, Val: 1.61349105835\n",
      "iter: 5000 Train: 1.47313833237, Val: 1.78778159618\n",
      "iter: 6000 Train: 2.04632735252, Val: 1.91488814354\n",
      "iter: 7000 Train: 1.39786422253, Val: 1.63219571114\n",
      "iter: 8000 Train: 1.08921742439, Val: 2.31538128853\n",
      "iter: 9000 Train: 1.29105639458, Val: 1.82912147045\n"
     ]
    }
   ],
   "source": [
    "for i in range(train_steps):\n",
    "    xb,yb = get_batch(X_train,Y_train,N,n=Nbatch)\n",
    "    l,_=sess.run([loss,train],{x:xb,y:yb})\n",
    "\n",
    "    if i%print_step == 0:\n",
    "        xb,yb = get_batch(X_val,Y_val,Nval,n=Nbatch)\n",
    "        lval=sess.run(loss,{x:xb,y:yb})\n",
    "        print \"iter: {} Train: {}, Val: {}\".format(i,l,lval)\n",
    "        train_hist.append(l)\n",
    "        val_hist.append(lval)"
   ]
  },
  {
   "cell_type": "code",
   "execution_count": 13,
   "metadata": {},
   "outputs": [
    {
     "data": {
      "image/png": "[encoded data removed]",
      "text/plain": [
       "<matplotlib.figure.Figure at 0x7fe539094c90>"
      ]
     },
     "metadata": {},
     "output_type": "display_data"
    }
   ],
   "source": [
    "plt.figure()\n",
    "plt.plot(train_hist, linewidth=2,color='r',label='train')\n",
    "plt.plot(val_hist, linewidth=2,color='g',label='val')\n",
    "plt.legend()\n",
    "plt.show()"
   ]
  },
  {
   "cell_type": "code",
   "execution_count": 14,
   "metadata": {
    "collapsed": true
   },
   "outputs": [],
   "source": [
    "a = sess.run(o,{x:xb,y:yb})"
   ]
  },
  {
   "cell_type": "code",
   "execution_count": 15,
   "metadata": {},
   "outputs": [
    {
     "name": "stdout",
     "output_type": "stream",
     "text": [
      "[[ -1.74791038  -6.88927221   0.37416553  -1.20392859   0.93345934\n",
      "    2.67075968  -2.38939142  11.66414547  -8.78565502   5.40909052]\n",
      " [ -3.92987561   0.69347757  -2.18182039   0.84995347  -0.23485392\n",
      "    1.27729356  -0.73645163   4.67536831  -2.26502848   1.85149622]]\n",
      "(32, 10)\n",
      "[ -49.28848267 -194.26727295   10.55091381  -33.94900131   26.32217026\n",
      "   75.3114624   -67.37729645  328.91162109 -247.7424469   152.52833557]\n"
     ]
    }
   ],
   "source": [
    "print a[:2]\n",
    "print a.shape\n",
    "print a[0]/np.sum(a[0])"
   ]
  },
  {
   "cell_type": "code",
   "execution_count": 16,
   "metadata": {},
   "outputs": [
    {
     "data": {
      "image/png": "[encoded data removed]",
      "text/plain": [
       "<matplotlib.figure.Figure at 0x7fe538ea0910>"
      ]
     },
     "metadata": {},
     "output_type": "display_data"
    },
    {
     "ename": "NameError",
     "evalue": "name 'yhat' is not defined",
     "output_type": "error",
     "traceback": [
      "\u001b[0;31m---------------------------------------------------------------------------\u001b[0m",
      "\u001b[0;31mNameError\u001b[0m                                 Traceback (most recent call last)",
      "\u001b[0;32m<ipython-input-16-4d72734bcb20>\u001b[0m in \u001b[0;36m<module>\u001b[0;34m()\u001b[0m\n\u001b[1;32m     13\u001b[0m \u001b[0minput_vector\u001b[0m \u001b[0;34m=\u001b[0m \u001b[0mX_test\u001b[0m\u001b[0;34m[\u001b[0m\u001b[0mindex\u001b[0m\u001b[0;34m,\u001b[0m\u001b[0;34m:\u001b[0m\u001b[0;34m]\u001b[0m\u001b[0;34m\u001b[0m\u001b[0m\n\u001b[1;32m     14\u001b[0m \u001b[0minput_vector\u001b[0m \u001b[0;34m=\u001b[0m \u001b[0minput_vector\u001b[0m\u001b[0;34m.\u001b[0m\u001b[0mreshape\u001b[0m\u001b[0;34m(\u001b[0m\u001b[0;34m(\u001b[0m\u001b[0;36m1\u001b[0m\u001b[0;34m,\u001b[0m\u001b[0;36m32\u001b[0m\u001b[0;34m,\u001b[0m\u001b[0;36m32\u001b[0m\u001b[0;34m,\u001b[0m\u001b[0;36m3\u001b[0m\u001b[0;34m)\u001b[0m\u001b[0;34m)\u001b[0m\u001b[0;34m\u001b[0m\u001b[0m\n\u001b[0;32m---> 15\u001b[0;31m \u001b[0mclass_probabilities\u001b[0m \u001b[0;34m=\u001b[0m \u001b[0msess\u001b[0m\u001b[0;34m.\u001b[0m\u001b[0mrun\u001b[0m\u001b[0;34m(\u001b[0m\u001b[0myhat\u001b[0m\u001b[0;34m,\u001b[0m\u001b[0;34m{\u001b[0m\u001b[0mx_tf\u001b[0m\u001b[0;34m:\u001b[0m\u001b[0minput_vector\u001b[0m\u001b[0;34m}\u001b[0m\u001b[0;34m)\u001b[0m\u001b[0;34m\u001b[0m\u001b[0m\n\u001b[0m\u001b[1;32m     16\u001b[0m \u001b[0;34m\u001b[0m\u001b[0m\n\u001b[1;32m     17\u001b[0m \u001b[0mplt\u001b[0m\u001b[0;34m.\u001b[0m\u001b[0mfigure\u001b[0m\u001b[0;34m(\u001b[0m\u001b[0;34m)\u001b[0m\u001b[0;34m\u001b[0m\u001b[0m\n",
      "\u001b[0;31mNameError\u001b[0m: name 'yhat' is not defined"
     ]
    }
   ],
   "source": [
    "#Plot a random digit and the corresponding network output to see\n",
    "#how well our network is working\n",
    "index = np.random.randint(X_test.shape[0])\n",
    "img = X_test[index,:]\n",
    "plt.figure()\n",
    "plt.imshow(img,cmap='gray')\n",
    "plt.colorbar()\n",
    "plt.savefig('probability_image.pdf',dpi=600)\n",
    "plt.show()\n",
    "plt.close()\n",
    "\n",
    "#We need a batch dimension so we reshape the vector to (1,32,32,3)\n",
    "input_vector = X_test[index,:]\n",
    "input_vector = input_vector.reshape((1,32,32,3))\n",
    "class_probabilities = sess.run(yhat,{x_tf:input_vector})\n",
    "\n",
    "plt.figure()\n",
    "plt.stem(class_probabilities[0])\n",
    "plt.xlabel('image class')\n",
    "plt.ylabel('probability')\n",
    "plt.savefig('probability.pdf',dpi=600)\n",
    "plt.show()\n",
    "plt.close()"
   ]
  },
  {
   "cell_type": "code",
   "execution_count": null,
   "metadata": {
    "collapsed": true
   },
   "outputs": [],
   "source": [
    "#calculate the accuracy for each class\n",
    "predicted_probabilities = sess.run(yhat,{x:X_test})\n",
    "predicted_classes = np.argmax(predicted_probabilities,axis=1)\n",
    "\n",
    "accuracies = []\n",
    "for i in range(num_classes):\n",
    "    class_indices = np.where(Y_test==i)[0]\n",
    "    total_correct = np.sum(predicted_classes[class_indices]==Y_test[class_indices])\n",
    " \n",
    "    acc = 1.0*total_correct/len(class_indices)\n",
    "    accuracies.append(acc)\n",
    "    print \"Accuracy for class {} = {}%\".format(i,acc*100)\n",
    "    \n",
    "plt.figure()\n",
    "plt.stem(accuracies)\n",
    "plt.xlabel('image class')\n",
    "plt.ylabel('test accuracy')\n",
    "plt.savefig('accuracy.pdf',dpi=600)\n",
    "plt.show()\n",
    "plt.close()"
   ]
  }
 ],
 "metadata": {
  "anaconda-cloud": {},
  "kernelspec": {
   "display_name": "Python [conda root]",
   "language": "python",
   "name": "conda-root-py"
  },
  "language_info": {
   "codemirror_mode": {
    "name": "ipython",
    "version": 2
   },
   "file_extension": ".py",
   "mimetype": "text/x-python",
   "name": "python",
   "nbconvert_exporter": "python",
   "pygments_lexer": "ipython2",
   "version": "2.7.13"
  }
 },
 "nbformat": 4,
 "nbformat_minor": 1
}
